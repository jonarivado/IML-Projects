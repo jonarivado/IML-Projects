{
 "cells": [
  {
   "cell_type": "code",
   "execution_count": 108,
   "metadata": {},
   "outputs": [],
   "source": [
    "import pandas as pd\n",
    "import numpy as np\n",
    "import matplotlib as plt\n",
    "from sklearn.model_selection import train_test_split\n",
    "from sklearn.model_selection import train_test_split\n",
    "from sklearn.linear_model import LinearRegression\n",
    "from sklearn.multioutput import MultiOutputClassifier\n",
    "from sklearn.metrics import mean_squared_error\n",
    "from sklearn.neighbors import KNeighborsClassifier\n",
    "from sklearn.ensemble import RandomForestClassifier\n",
    "from sklearn.metrics import roc_auc_score"
   ]
  },
  {
   "cell_type": "code",
   "execution_count": 136,
   "metadata": {},
   "outputs": [],
   "source": [
    "train_features_data=pd.read_csv('train_features.csv')\n",
    "train_labels_data=pd.read_csv('train_labels.csv')\n",
    "test_features_data=pd.read_csv('test_features.csv')\n",
    "# add labels with matching pid to features\n",
    "labels_copied = pd.DataFrame()\n",
    "labels_copied = labels_data.loc[labels_data.index.repeat(12)]\n",
    "labels_copied = labels_copied.drop(columns=['pid'])\n",
    "labels = train_labels_data.drop(columns=['pid'])\n",
    "LABELS1 = ['LABEL_BaseExcess', 'LABEL_Fibrinogen', 'LABEL_AST', 'LABEL_Alkalinephos', 'LABEL_Bilirubin_total',\n",
    "         'LABEL_Lactate', 'LABEL_TroponinI', 'LABEL_SaO2',\n",
    "         'LABEL_Bilirubin_direct', 'LABEL_EtCO2']\n",
    "LABELS2 = ['LABEL_Sepsis']\n",
    "LABELS3 = ['LABEL_RRate', 'LABEL_ABPm', 'LABEL_SpO2', 'LABEL_Heartrate']"
   ]
  },
  {
   "cell_type": "markdown",
   "metadata": {},
   "source": [
    "## Subtask 1"
   ]
  },
  {
   "cell_type": "code",
   "execution_count": 144,
   "metadata": {},
   "outputs": [],
   "source": [
    "X = train_features_data.drop(columns=['pid', 'Time']).reset_index(drop=True).fillna(train_features_data.mean())\n",
    "y = labels_copied[LABELS1]\n",
    "X_train, X_test, y_train, y_test = train_test_split(X, y, test_size=0.2, shuffle=False)\n",
    "\n",
    "TEST_X = test_features_data.drop(columns=['pid', 'Time']).reset_index(drop=True).fillna(test_features_data.mean())"
   ]
  },
  {
   "cell_type": "code",
   "execution_count": 146,
   "metadata": {},
   "outputs": [
    {
     "data": {
      "text/plain": [
       "array([0.74774497, 0.58494293, 0.59480264, 0.59759122, 0.59616511,\n",
       "       0.62442237, 0.68243791, 0.66054309, 0.60079126, 0.81829768])"
      ]
     },
     "metadata": {},
     "output_type": "display_data"
    },
    {
     "data": {
      "text/plain": [
       "[array([0.73038029, 0.65      , 0.41      , ..., 0.21      , 0.16      ,\n",
       "        0.22      ]),\n",
       " array([0.93133338, 0.09      , 0.06      , ..., 0.02      , 0.03      ,\n",
       "        0.02      ]),\n",
       " array([0.99674711, 0.11      , 0.15      , ..., 0.25      , 0.24      ,\n",
       "        0.28      ]),\n",
       " array([0.99674027, 0.1       , 0.15      , ..., 0.22      , 0.23      ,\n",
       "        0.3       ]),\n",
       " array([0.99681662, 0.11      , 0.14      , ..., 0.22      , 0.23      ,\n",
       "        0.28      ]),\n",
       " array([0.9653894, 0.26     , 0.23     , ..., 0.18     , 0.1      ,\n",
       "        0.25     ]),\n",
       " array([0.70798525, 0.02      , 0.05      , ..., 0.1       , 0.04      ,\n",
       "        0.05      ]),\n",
       " array([0.99383216, 0.65      , 0.37      , ..., 0.19      , 0.16      ,\n",
       "        0.26      ]),\n",
       " array([0.93945573, 0.        , 0.01      , ..., 0.        , 0.        ,\n",
       "        0.01      ]),\n",
       " array([0.23663882, 0.        , 0.02      , ..., 0.05      , 0.03      ,\n",
       "        0.03      ])]"
      ]
     },
     "metadata": {},
     "output_type": "display_data"
    }
   ],
   "source": [
    "clf=RandomForestClassifier(class_weight='balanced')\n",
    "clf.fit(X_train, y_train)\n",
    "y_pred_proba=clf.predict_proba(X_test)\n",
    "err=np.empty(10)\n",
    "list_proba=list()\n",
    "for i,label in enumerate(LABELS1):\n",
    "    err[i]=roc_auc_score(y_test[label], y_pred_proba[i][:,1])\n",
    "    list_proba.append(y_pred_proba[i][:,1])\n",
    "display(err)\n",
    "display(list_proba)"
   ]
  },
  {
   "cell_type": "code",
   "execution_count": 133,
   "metadata": {},
   "outputs": [
    {
     "data": {
      "text/plain": [
       "array([0.13784386, 0.16      , 0.14      , ..., 0.17      , 0.11      ,\n",
       "       0.14      ])"
      ]
     },
     "metadata": {},
     "output_type": "display_data"
    }
   ],
   "source": [
    "TEST_y_pred=clf.predict_proba(TEST_X)\n",
    "display(TEST_y_pred[0][:,1])"
   ]
  },
  {
   "cell_type": "code",
   "execution_count": 185,
   "metadata": {},
   "outputs": [
    {
     "data": {
      "text/plain": [
       "12664"
      ]
     },
     "metadata": {},
     "output_type": "display_data"
    }
   ],
   "source": [
    "TEST_y_pred_proba=np.empty(int(len(TEST_y_pred[0][:,1])/12))\n",
    "counter=0\n",
    "for splits in np.split(np.array(TEST_y_pred[0][:,1]), int(len(TEST_y_pred[0][:,1])/12)):\n",
    "    TEST_y_pred_proba[counter]=splits.mean() \n",
    "    counter=counter+1\n",
    "display(counter)"
   ]
  },
  {
   "cell_type": "code",
   "execution_count": 176,
   "metadata": {},
   "outputs": [
    {
     "data": {
      "text/plain": [
       "(3799,)"
      ]
     },
     "metadata": {},
     "output_type": "display_data"
    }
   ],
   "source": [
    "y_test_reduced=y_test['LABEL_BaseExcess'][0:len(y_test['LABEL_BaseExcess']):12]\n",
    "display(y_test_reduced.shape)\n",
    "#roc_auc_score(y_test[label], y_pred_proba[i][:,1])"
   ]
  },
  {
   "cell_type": "code",
   "execution_count": 177,
   "metadata": {},
   "outputs": [
    {
     "data": {
      "text/plain": [
       "(3799,)"
      ]
     },
     "metadata": {},
     "output_type": "display_data"
    }
   ],
   "source": [
    "y_pred_proba_reduced=np.empty(int(len(y_pred_proba[0][:,1])/12))\n",
    "counter=0\n",
    "for splits in np.split(np.array(y_pred_proba[0][:,1]), int(len(y_pred_proba[0][:,1])/12)):\n",
    "    y_pred_proba_reduced[counter]=splits.mean() \n",
    "    counter=counter+1\n",
    "display(y_pred_proba_reduced.shape)"
   ]
  },
  {
   "cell_type": "code",
   "execution_count": 196,
   "metadata": {},
   "outputs": [
    {
     "data": {
      "text/plain": [
       "1.5"
      ]
     },
     "metadata": {},
     "output_type": "display_data"
    },
    {
     "data": {
      "text/plain": [
       "3.5"
      ]
     },
     "metadata": {},
     "output_type": "display_data"
    },
    {
     "data": {
      "text/plain": [
       "5.5"
      ]
     },
     "metadata": {},
     "output_type": "display_data"
    }
   ],
   "source": [
    "arr=[1,2,3,4,5,6]\n",
    "for splits in np.split(np.array(arr), int(len(arr)/2)):\n",
    "    display(splits.mean())\n"
   ]
  },
  {
   "cell_type": "code",
   "execution_count": 178,
   "metadata": {},
   "outputs": [
    {
     "data": {
      "text/plain": [
       "0.8567692716897186"
      ]
     },
     "execution_count": 178,
     "metadata": {},
     "output_type": "execute_result"
    }
   ],
   "source": [
    "roc_auc_score(y_test_reduced, y_pred_proba_reduced)"
   ]
  },
  {
   "cell_type": "markdown",
   "metadata": {},
   "source": [
    "### Subtask 2"
   ]
  },
  {
   "cell_type": "code",
   "execution_count": 135,
   "metadata": {},
   "outputs": [
    {
     "data": {
      "text/plain": [
       "array([0.16      , 0.26      , 0.23      , 0.35      , 0.12      ,\n",
       "       0.73629986, 0.06      , 0.43      , 0.19      , 0.56      ,\n",
       "       0.28      , 0.71      , 0.24      , 0.63      , 0.25      ,\n",
       "       0.56386487, 0.28      , 0.4       , 0.26      , 0.07      ,\n",
       "       0.13      , 0.56      , 0.19      , 0.21      , 0.08      ,\n",
       "       0.8       , 0.65      , 0.01878386, 0.26      , 0.21      ,\n",
       "       0.17      , 0.53      , 0.18      , 0.1       , 0.40480885,\n",
       "       0.28      , 0.2       , 0.08      , 0.41      , 0.41      ,\n",
       "       0.63450253, 0.72      , 0.46      , 0.43      , 0.19      ,\n",
       "       0.08      , 0.12      , 0.14      , 0.56386487, 0.32      ,\n",
       "       0.43      , 0.90278915, 0.55      , 0.12      , 0.21      ,\n",
       "       0.06      , 0.19      , 0.69      , 0.85      , 0.13      ,\n",
       "       0.86347815, 0.14      , 0.13      , 0.5       , 0.25      ,\n",
       "       0.45      , 0.07      , 0.8582044 , 0.26      , 0.33      ,\n",
       "       0.46      , 0.33      , 0.57      , 0.64      , 0.76      ,\n",
       "       0.06      , 0.33      , 0.42      , 0.11      , 0.24352417,\n",
       "       0.24      , 0.34      , 0.63      , 0.03      , 0.32      ,\n",
       "       0.18      , 0.05      , 0.49      , 0.41      , 0.19      ,\n",
       "       0.35290152, 0.41      , 0.21      , 0.09      , 0.4       ,\n",
       "       0.48      , 0.17      , 0.16      , 0.41      , 0.62      ])"
      ]
     },
     "metadata": {},
     "output_type": "display_data"
    }
   ],
   "source": [
    "display(list_proba[0][0:100])"
   ]
  },
  {
   "cell_type": "code",
   "execution_count": 183,
   "metadata": {},
   "outputs": [],
   "source": [
    "filename = 'sample.zip'\n",
    "df_submission = pd.read_csv(filename)\n",
    "for i,label in enumerate(LABELS1):\n",
    "    # round classification labels\n",
    "    df_submission[label]=TEST_y_pred_proba[i]\n",
    "df_submission.to_csv('submission.csv',index=False, header=False)"
   ]
  }
 ],
 "metadata": {
  "language_info": {
   "name": "python"
  },
  "orig_nbformat": 4
 },
 "nbformat": 4,
 "nbformat_minor": 2
}
