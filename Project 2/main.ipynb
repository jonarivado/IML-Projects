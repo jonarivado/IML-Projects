{
 "cells": [
  {
   "cell_type": "code",
   "execution_count": 1,
   "metadata": {},
   "outputs": [],
   "source": [
    "from sklearn.metrics import mean_squared_error\n",
    "import pandas as pd\n",
    "import matplotlib.pyplot as plt\n",
    "import seaborn as sns\n",
    "import numpy as np\n",
    "from sklearn.model_selection import train_test_split\n",
    "import tensorflow as tf\n",
    "#import everythin for a sequential keras model\n",
    "from tensorflow.keras.models import Sequential\n",
    "from tensorflow.keras.layers import Dense\n",
    "from tensorflow.keras.layers import BatchNormalization\n",
    "from tensorflow.keras.layers import Activation"
   ]
  },
  {
   "cell_type": "code",
   "execution_count": 2,
   "metadata": {},
   "outputs": [],
   "source": [
    "#load dataset\n",
    "train_features_data=pd.read_csv('train_features.csv')\n",
    "labels_data=pd.read_csv('train_labels.csv')\n",
    "#extract features with pandas groupby method\n",
    "train_data=pd.DataFrame(train_features_data.groupby(['pid']).mean())\n",
    "train=train_data.reset_index().drop(columns=['pid', 'Time']).fillna(train_data.mean())\n",
    "labels=labels_data.drop(columns=['pid'])\n",
    "labels = labels[['LABEL_BaseExcess', 'LABEL_Fibrinogen', 'LABEL_AST', 'LABEL_Alkalinephos', 'LABEL_Bilirubin_total', 'LABEL_Lactate', 'LABEL_TroponinI', 'LABEL_SaO2', 'LABEL_Bilirubin_direct', 'LABEL_EtCO2']]\n",
    "#split into train and test set\n",
    "X_train, X_test, y_train, y_test = train_test_split(train, labels, test_size=0.2, random_state=42)"
   ]
  },
  {
   "cell_type": "code",
   "execution_count": 60,
   "metadata": {},
   "outputs": [],
   "source": [
    "train_features_data=pd.read_csv('train_features.csv')\n",
    "labels_data=pd.read_csv('train_labels.csv')\n",
    "labels_data=labels_data.drop(columns=['pid'])"
   ]
  },
  {
   "cell_type": "code",
   "execution_count": null,
   "metadata": {},
   "outputs": [],
   "source": [
    "train_features_data=pd.read_csv('train_features.csv')\n",
    "labels_data=pd.read_csv('train_labels.csv')\n",
    "labels_copied = pd.DataFrame()\n",
    "for i in range(len(labels_data)):\n",
    "    for j in range(12):\n",
    "        labels_copied = labels_copied.append(labels_data.loc[i,:])\n",
    "train_features_data_new = pd.concat([train_features_data, labels_copied])\n",
    "\n",
    "train = train_features_data_new.reset_index().drop(columns=['pid', 'Time']).fillna(method='ffill')"
   ]
  },
  {
   "cell_type": "code",
   "execution_count": 57,
   "metadata": {},
   "outputs": [
    {
     "data": {
      "text/plain": [
       "4"
      ]
     },
     "metadata": {},
     "output_type": "display_data"
    }
   ],
   "source": [
    "labels = train[['LABEL_BaseExcess', 'LABEL_Fibrinogen', 'LABEL_AST', 'LABEL_Alkalinephos', 'LABEL_Bilirubin_total', 'LABEL_Lactate', 'LABEL_TroponinI', 'LABEL_SaO2', 'LABEL_Bilirubin_direct', 'LABEL_EtCO2']]\n",
    "X_train, X_test, y_train, y_test = train_test_split(train, labels, test_size=0.2, random_state=42)"
   ]
  },
  {
   "cell_type": "code",
   "execution_count": 17,
   "metadata": {},
   "outputs": [
    {
     "name": "stdout",
     "output_type": "stream",
     "text": [
      "Model: \"sequential_8\"\n",
      "_________________________________________________________________\n",
      " Layer (type)                Output Shape              Param #   \n",
      "=================================================================\n",
      " dense_24 (Dense)            (None, 128)               4608      \n",
      "                                                                 \n",
      " dense_25 (Dense)            (None, 128)               16512     \n",
      "                                                                 \n",
      " dense_26 (Dense)            (None, 10)                1290      \n",
      "                                                                 \n",
      "=================================================================\n",
      "Total params: 22,410\n",
      "Trainable params: 22,410\n",
      "Non-trainable params: 0\n",
      "_________________________________________________________________\n"
     ]
    }
   ],
   "source": [
    "#make a sequential model\n",
    "model = Sequential([\n",
    "    Dense(units=128, input_shape=(X_train.shape[1],), activation='relu'),\n",
    "    Dense(units=128, activation='relu'),\n",
    "    Dense(units=10, activation='sigmoid'),\n",
    "])\n",
    "#compile the model\n",
    "\n",
    "model.summary()\n"
   ]
  },
  {
   "cell_type": "code",
   "execution_count": null,
   "metadata": {},
   "outputs": [],
   "source": [
    "\n",
    "model.compile(optimizer='sgd', loss='binary_focal_crossentropy', metrics=[tf.keras.metrics.AUC()])\n",
    "model.fit(X_train, y_train, epochs=40, batch_size=32)"
   ]
  },
  {
   "cell_type": "code",
   "execution_count": 7,
   "metadata": {},
   "outputs": [
    {
     "name": "stdout",
     "output_type": "stream",
     "text": [
      "0.9103684579000128\n"
     ]
    }
   ],
   "source": [
    "y_pred = model.predict(X_test)\n",
    "err=np.sqrt(mean_squared_error(y_pred,y_test))\n",
    "print(err)"
   ]
  },
  {
   "cell_type": "code",
   "execution_count": 39,
   "metadata": {},
   "outputs": [
    {
     "data": {
      "text/plain": [
       "LABEL_BaseExcess          26.671492\n",
       "LABEL_Fibrinogen           7.297973\n",
       "LABEL_AST                 23.933930\n",
       "LABEL_Alkalinephos        23.631219\n",
       "LABEL_Bilirubin_total     24.058963\n",
       "LABEL_Lactate             19.840748\n",
       "LABEL_TroponinI           10.107923\n",
       "LABEL_SaO2                23.256120\n",
       "LABEL_Bilirubin_direct     3.382469\n",
       "LABEL_EtCO2                6.528034\n",
       "dtype: float64"
      ]
     },
     "metadata": {},
     "output_type": "display_data"
    },
    {
     "data": {
      "text/plain": [
       "(15196, 10)"
      ]
     },
     "metadata": {},
     "output_type": "display_data"
    }
   ],
   "source": [
    "display(y_train[y_train == 1].sum()/y_train.shape[0]*100)\n",
    "display(y_train.shape)\n"
   ]
  },
  {
   "cell_type": "markdown",
   "metadata": {},
   "source": [
    "Predict Separately"
   ]
  },
  {
   "cell_type": "code",
   "execution_count": 15,
   "metadata": {},
   "outputs": [],
   "source": [
    "model = Sequential([\n",
    "    Dense(units=128, input_shape=(X_train.shape[1],), activation='relu'),\n",
    "    Dense(units=128, activation='relu'),\n",
    "    Dense(units=1, activation='sigmoid'),\n",
    "])\n",
    "model.compile(optimizer='sgd', loss='binary_focal_crossentropy', metrics=[tf.keras.metrics.MeanAbsoluteError()])"
   ]
  },
  {
   "cell_type": "code",
   "execution_count": null,
   "metadata": {},
   "outputs": [],
   "source": [
    "#load dataset\n",
    "train_features_data=pd.read_csv('train_features.csv')\n",
    "labels_data=pd.read_csv('train_labels.csv')\n",
    "#extract features with pandas groupby method\n",
    "train_data=pd.DataFrame(train_features_data.groupby(['pid']).mean())\n",
    "train=train_data.reset_index().drop(columns=['pid', 'Time']).fillna(train_data.mean())\n",
    "labels=labels_data.drop(columns=['pid'])\n",
    "labels = labels[['LABEL_BaseExcess', 'LABEL_Fibrinogen', 'LABEL_AST', 'LABEL_Alkalinephos', 'LABEL_Bilirubin_total', 'LABEL_Lactate', 'LABEL_TroponinI', 'LABEL_SaO2', 'LABEL_Bilirubin_direct', 'LABEL_EtCO2']]\n",
    "#split into train and test set\n",
    "for i in range(10):\n",
    "    X_train, X_test, y_train, y_test = train_test_split(train, labels.iloc[:,i], test_size=0.2, random_state=42)\n",
    "    model.fit(X_train, y_train, epochs=10, batch_size=32)\n",
    "    y_pred = model.predict(X_test)\n",
    "    err=np.sqrt(mean_squared_error(y_pred,y_test.iloc[:,i]))\n",
    "    print(err)"
   ]
  },
  {
   "cell_type": "code",
   "execution_count": 4,
   "metadata": {},
   "outputs": [
    {
     "name": "stdout",
     "output_type": "stream",
     "text": [
      "[0. 0. 1. ... 1. 1. 1.]\n"
     ]
    }
   ],
   "source": [
    "#load dataset\n",
    "train_features_data=pd.read_csv('train_features.csv')\n",
    "labels_data=pd.read_csv('train_labels.csv')\n",
    "#extract features with pandas groupby method\n",
    "train_data=pd.DataFrame(train_features_data.groupby(['pid']).mean())\n",
    "train=train_data.reset_index().drop(columns=['pid', 'Time']).fillna(train_data.mean())\n",
    "labels=labels_data.drop(columns=['pid'])\n",
    "labels = labels[['LABEL_Bilirubin_total']]\n",
    "#split into train and test set\n",
    "\n",
    "X_train, X_test, y_train, y_test = train_test_split(train, labels, test_size=0.2, random_state=42)\n",
    "#SVC versuch\n",
    "from sklearn.svm import SVC\n",
    "svc = SVC(kernel='sigmoid',probability=True, class_weight='balanced')\n",
    "svc.fit(X_train, np.ravel(y_train))\n",
    "y_pred = svc.predict(X_test)\n"
   ]
  },
  {
   "cell_type": "code",
   "execution_count": 10,
   "metadata": {},
   "outputs": [
    {
     "name": "stdout",
     "output_type": "stream",
     "text": [
      "0.47775730455383\n"
     ]
    }
   ],
   "source": [
    "from sklearn.metrics import accuracy_score\n",
    "print(accuracy_score(y_test['LABEL_Bilirubin_total'], y_pred))"
   ]
  },
  {
   "cell_type": "markdown",
   "metadata": {},
   "source": [
    "## Subtask 2"
   ]
  },
  {
   "cell_type": "code",
   "execution_count": 32,
   "metadata": {},
   "outputs": [],
   "source": [
    "#load dataset\n",
    "train_features_data=pd.read_csv('train_features.csv')\n",
    "labels_data=pd.read_csv('train_labels.csv')\n",
    "#extract features with pandas groupby method\n",
    "train_data=pd.DataFrame(train_features_data.groupby(['pid']).mean())\n",
    "train=train_data.reset_index().drop(columns=['pid', 'Time']).fillna(train_data.mean())\n",
    "labels=labels_data.drop(columns=['pid'])\n",
    "labels = labels['LABEL_Sepsis']\n",
    "#split into train and test set\n",
    "X_train, X_test, y_train, y_test = train_test_split(train, labels, test_size=0.2, random_state=42)"
   ]
  },
  {
   "cell_type": "code",
   "execution_count": 5,
   "metadata": {},
   "outputs": [],
   "source": [
    "train_features_data=pd.read_csv('train_features.csv')\n",
    "labels_data=pd.read_csv('train_labels.csv')\n",
    "# add labels with matching pid to features\n",
    "labels_copied = pd.DataFrame()\n",
    "labels_copied = labels_data.loc[labels_data.index.repeat(12)]\n",
    "labels_copied = labels_copied.drop(columns=['pid'])"
   ]
  },
  {
   "cell_type": "code",
   "execution_count": 6,
   "metadata": {},
   "outputs": [],
   "source": [
    "#join labels on the right of the features\n",
    "train_features_data_new = train_features_data.join(labels_copied, how='right')\n",
    "train_features_data_new = train_features_data_new.drop(columns=['pid', 'Time']).reset_index(drop=True)"
   ]
  },
  {
   "cell_type": "code",
   "execution_count": 18,
   "metadata": {},
   "outputs": [],
   "source": [
    "X = train_features_data.drop(columns=['pid', 'Time']).reset_index(drop=True).fillna(train_features_data.mean())\n",
    "y = labels_copied['LABEL_Sepsis']\n",
    "X_train, X_test, y_train, y_test = train_test_split(X, y, test_size=0.2, random_state=42)"
   ]
  },
  {
   "cell_type": "code",
   "execution_count": 24,
   "metadata": {},
   "outputs": [
    {
     "name": "stdout",
     "output_type": "stream",
     "text": [
      "Epoch 1/20\n",
      "90/90 [==============================] - 1s 3ms/step - loss: 3.1921 - auc_13: 0.4954\n",
      "Epoch 2/20\n",
      "90/90 [==============================] - 0s 3ms/step - loss: 0.0880 - auc_13: 0.4952\n",
      "Epoch 3/20\n",
      "90/90 [==============================] - 0s 3ms/step - loss: 0.0732 - auc_13: 0.4994\n",
      "Epoch 4/20\n",
      "90/90 [==============================] - 0s 4ms/step - loss: 0.0692 - auc_13: 0.4978\n",
      "Epoch 5/20\n",
      "90/90 [==============================] - 0s 5ms/step - loss: 0.0686 - auc_13: 0.4965\n",
      "Epoch 6/20\n",
      "90/90 [==============================] - 1s 7ms/step - loss: 0.0665 - auc_13: 0.4980\n",
      "Epoch 7/20\n",
      "90/90 [==============================] - 1s 6ms/step - loss: 0.0663 - auc_13: 0.4997\n",
      "Epoch 8/20\n",
      "90/90 [==============================] - 1s 6ms/step - loss: 0.0661 - auc_13: 0.4987\n",
      "Epoch 9/20\n",
      "90/90 [==============================] - 1s 6ms/step - loss: 0.0652 - auc_13: 0.4986\n",
      "Epoch 10/20\n",
      "90/90 [==============================] - 0s 6ms/step - loss: 0.0796 - auc_13: 0.4982\n",
      "Epoch 11/20\n",
      "90/90 [==============================] - 0s 6ms/step - loss: 0.0717 - auc_13: 0.4961\n",
      "Epoch 12/20\n",
      "90/90 [==============================] - 1s 6ms/step - loss: 0.0682 - auc_13: 0.4991\n",
      "Epoch 13/20\n",
      "90/90 [==============================] - 1s 6ms/step - loss: 0.0687 - auc_13: 0.4959\n",
      "Epoch 14/20\n",
      "90/90 [==============================] - 1s 6ms/step - loss: 0.0708 - auc_13: 0.4989\n",
      "Epoch 15/20\n",
      "90/90 [==============================] - 1s 6ms/step - loss: 0.0673 - auc_13: 0.4993\n",
      "Epoch 16/20\n",
      "90/90 [==============================] - 1s 6ms/step - loss: 0.0678 - auc_13: 0.4989\n",
      "Epoch 17/20\n",
      "90/90 [==============================] - 1s 6ms/step - loss: 0.0664 - auc_13: 0.4993\n",
      "Epoch 18/20\n",
      "90/90 [==============================] - 1s 6ms/step - loss: 0.0659 - auc_13: 0.4993\n",
      "Epoch 19/20\n",
      "90/90 [==============================] - 1s 6ms/step - loss: 0.0652 - auc_13: 0.4995\n",
      "Epoch 20/20\n",
      "90/90 [==============================] - 1s 6ms/step - loss: 0.0652 - auc_13: 0.4998\n"
     ]
    }
   ],
   "source": [
    "model = Sequential([\n",
    "    Dense(units=64, input_shape=(X_train.shape[1],), activation='relu'),\n",
    "    Dense(units=64, activation='relu'),\n",
    "    Dense(units=1, activation='sigmoid'),\n",
    "])\n",
    "model.compile(optimizer='sgd', loss='binary_focal_crossentropy', metrics=[tf.keras.metrics.AUC()])\n",
    "\n",
    "model.fit(X_train, np.ravel(y_train), epochs=20, batch_size=2048)\n",
    "\n",
    "y_pred = model.predict(X_test)"
   ]
  }
 ],
 "metadata": {
  "interpreter": {
   "hash": "a7bf333cef6c42b7677acd20465dba9b1b24400d560046f4de2df062e6949c1c"
  },
  "kernelspec": {
   "display_name": "Python 3.7.11 ('intro-ml')",
   "language": "python",
   "name": "python3"
  },
  "language_info": {
   "codemirror_mode": {
    "name": "ipython",
    "version": 3
   },
   "file_extension": ".py",
   "mimetype": "text/x-python",
   "name": "python",
   "nbconvert_exporter": "python",
   "pygments_lexer": "ipython3",
   "version": "3.7.11"
  },
  "orig_nbformat": 4
 },
 "nbformat": 4,
 "nbformat_minor": 2
}
