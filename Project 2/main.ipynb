{
 "cells": [
  {
   "cell_type": "code",
   "execution_count": 1,
   "metadata": {},
   "outputs": [],
   "source": [
    "#Special about this task:\n",
    "#\n",
    "# missing features and imbalanced classification, predicting rarely-occuring events"
   ]
  },
  {
   "cell_type": "code",
   "execution_count": 25,
   "metadata": {},
   "outputs": [],
   "source": [
    "import pandas as pd\n",
    "import numpy as np\n",
    "from sklearn.model_selection import train_test_split\n",
    "from sklearn.linear_model import LinearRegression,LassoCV\n",
    "from sklearn.metrics import mean_squared_error\n",
    "from sklearn.linear_model import LogisticRegression\n",
    "from sklearn.metrics import roc_auc_score\n",
    "\n",
    "#load dataset\n",
    "train_features_data=pd.read_csv('train_features.csv')\n",
    "labels_data=pd.read_csv('train_labels.csv')\n",
    "#extract features with pandas groupby method\n",
    "train_data=pd.DataFrame(train_features_data.groupby(['pid']).mean())\n",
    "train=train_data.reset_index().drop(columns=['pid', 'Time']).fillna(0)\n",
    "labels=labels_data['LABEL_AST']\n",
    "#labels=labels_data.drop(columns=['pid'])\n",
    "#split into train and test set\n",
    "X_train, X_test, y_train, y_test = train_test_split(train, labels, test_size=0.2, random_state=42)\n"
   ]
  },
  {
   "cell_type": "code",
   "execution_count": 27,
   "metadata": {},
   "outputs": [
    {
     "name": "stdout",
     "output_type": "stream",
     "text": [
      "0.42915336990165837\n"
     ]
    }
   ],
   "source": [
    "#Linear Regression model\n",
    "model = LinearRegression()\n",
    "model.fit(X_train, y_train)\n",
    "y_pred=model.predict(X_test)\n",
    "err=np.sqrt(mean_squared_error(y_pred,y_test))\n",
    "print(err)\n"
   ]
  },
  {
   "cell_type": "code",
   "execution_count": 35,
   "metadata": {},
   "outputs": [
    {
     "name": "stdout",
     "output_type": "stream",
     "text": [
      "2503     0.0\n",
      "14148    1.0\n",
      "2549     1.0\n",
      "42       0.0\n",
      "5620     0.0\n",
      "        ... \n",
      "17131    0.0\n",
      "12919    1.0\n",
      "7487     0.0\n",
      "16527    0.0\n",
      "11072    0.0\n",
      "Name: LABEL_AST, Length: 3799, dtype: float64\n"
     ]
    }
   ],
   "source": [
    "#probabilistic prediction\n",
    "clf = LogisticRegression(solver=\"liblinear\", random_state=0).fit(X_train, y_train)\n",
    "roc_auc_score(y_test, clf.predict_proba(X_test)[:, 1])\n",
    "print(y_test)"
   ]
  },
  {
   "cell_type": "code",
   "execution_count": 19,
   "metadata": {},
   "outputs": [
    {
     "name": "stdout",
     "output_type": "stream",
     "text": [
      "(1000, 10) (1000,)\n"
     ]
    }
   ],
   "source": [
    "from collections import Counter\n",
    "from sklearn.datasets import make_classification\n",
    "# define dataset\n",
    "X, y = make_classification(n_samples=1000, n_features=10, n_informative=5, n_redundant=5, n_classes=3, random_state=1)\n",
    "# summarize the dataset\n",
    "print(X.shape, y.shape)"
   ]
  },
  {
   "cell_type": "code",
   "execution_count": null,
   "metadata": {},
   "outputs": [],
   "source": []
  },
  {
   "cell_type": "markdown",
   "metadata": {},
   "source": [
    "### other approaches"
   ]
  },
  {
   "cell_type": "code",
   "execution_count": null,
   "metadata": {},
   "outputs": [],
   "source": [
    "# LinearRegression (and related)\n",
    "# KNeighborsRegressor\n",
    "# DecisionTreeRegressor\n",
    "# RandomForestRegressor (and related)"
   ]
  },
  {
   "cell_type": "markdown",
   "metadata": {},
   "source": [
    "### help-functions provided for task "
   ]
  },
  {
   "cell_type": "code",
   "execution_count": 5,
   "metadata": {},
   "outputs": [
    {
     "name": "stdout",
     "output_type": "stream",
     "text": [
      "(569, 30)\n",
      "(569,)\n"
     ]
    },
    {
     "data": {
      "text/plain": [
       "0.9947016542466043"
      ]
     },
     "execution_count": 5,
     "metadata": {},
     "output_type": "execute_result"
    }
   ],
   "source": [
    "from sklearn.datasets import load_breast_cancer\n",
    "from sklearn.linear_model import LogisticRegression\n",
    "from sklearn.metrics import roc_auc_score\n",
    "X, y = load_breast_cancer(return_X_y=True)\n",
    "print(X.shape)\n",
    "print(y.shape)\n",
    "clf = LogisticRegression(solver=\"liblinear\", random_state=0).fit(X, y)\n",
    "roc_auc_score(y, clf.predict_proba(X)[:, 1])"
   ]
  },
  {
   "cell_type": "code",
   "execution_count": 2,
   "metadata": {},
   "outputs": [],
   "source": [
    "# suppose df is a pandas dataframe containing the result\n",
    "#df.to_csv('prediction.zip', index=False, float_format='%.3f', compression='zip')"
   ]
  }
 ],
 "metadata": {
  "interpreter": {
   "hash": "132ee69bdf725fa2e7e77068a76a4fd30f6a4e18b0c726e5d9906e9196537d1a"
  },
  "kernelspec": {
   "display_name": "Python 3.9.7 ('MLenv')",
   "language": "python",
   "name": "python3"
  },
  "language_info": {
   "codemirror_mode": {
    "name": "ipython",
    "version": 3
   },
   "file_extension": ".py",
   "mimetype": "text/x-python",
   "name": "python",
   "nbconvert_exporter": "python",
   "pygments_lexer": "ipython3",
   "version": "3.9.7"
  },
  "orig_nbformat": 4
 },
 "nbformat": 4,
 "nbformat_minor": 2
}
