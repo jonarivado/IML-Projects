{
 "cells": [
  {
   "cell_type": "code",
   "execution_count": 1,
   "metadata": {},
   "outputs": [],
   "source": [
    "# import relevant libraries\n",
    "import numpy as np\n",
    "import pandas as pd\n",
    "import matplotlib.pyplot as plt\n",
    "import seaborn as sns\n",
    "from sklearn.linear_model import LinearRegression, Ridge, RidgeCV, Lasso, LassoCV\n",
    "from sklearn.model_selection import train_test_split, KFold, RepeatedKFold, cross_val_score, GridSearchCV\n",
    "from sklearn.metrics import mean_squared_error\n"
   ]
  },
  {
   "cell_type": "code",
   "execution_count": 2,
   "metadata": {},
   "outputs": [],
   "source": [
    "# load data set\n",
    "df_train = pd.read_csv('train.csv')\n",
    "y = pd.DataFrame(df_train['y'])\n",
    "X = pd.DataFrame(df_train.drop(df_train.columns[[0,1]],axis=1))"
   ]
  },
  {
   "cell_type": "code",
   "execution_count": 3,
   "metadata": {},
   "outputs": [],
   "source": [
    "# feature transformation\n",
    "\n",
    "# quadratic x6-x10\n",
    "X_squared = X**2\n",
    "X_squared.columns=['x6', 'x7','x8', 'x9', 'x10']\n",
    "X_trafo = pd.concat([X, X_squared],axis=1)\n",
    "\n",
    "# exponential x11-x15\n",
    "X_exp = np.exp(X)\n",
    "X_exp.columns=['x11', 'x12','x13', 'x14', 'x15']\n",
    "X_trafo = pd.concat([X_trafo, X_exp],axis=1)\n",
    "\n",
    "# cosine x16-x20\n",
    "X_cos = np.cos(X)\n",
    "X_cos.columns=['x16', 'x17','x18', 'x19', 'x20']\n",
    "X_trafo = pd.concat([X_trafo, X_cos],axis=1)\n",
    "\n",
    "# constant x21\n",
    "X_trafo['x21'] = np.ones_like(700)\n"
   ]
  },
  {
   "cell_type": "code",
   "execution_count": 4,
   "metadata": {},
   "outputs": [
    {
     "name": "stdout",
     "output_type": "stream",
     "text": [
      "RMSE training data: 0.0\n",
      "RMSE test data: 1.8674239351518078\n",
      "0.018491245622811403\n"
     ]
    }
   ],
   "source": [
    "# split train and test sets\n",
    "X_train, X_test, y_train, y_test = train_test_split(X_trafo, y, test_size=0.2, random_state=0)\n",
    "\n",
    "# fit model and predict\n",
    "regr = LassoCV(alphas = np.linspace(0.001,1,2000), fit_intercept=False, max_iter=300000, cv=200, random_state=0).fit(X_train, y_train.values.ravel())\n",
    "y_pred = regr.predict(X_test)\n",
    "\n",
    "RMSE_train = np.sqrt(mean_squared_error(y_train, y_train))\n",
    "RMSE_test = np.sqrt(mean_squared_error(y_test, y_pred))\n",
    "print('RMSE training data: %s' % RMSE_train)\n",
    "print('RMSE test data: %s' % RMSE_test)\n",
    "print(regr.alpha_)\n",
    "# write the predictions to the submission file\n",
    "\n",
    "weights_df=pd.DataFrame(data=np.transpose(regr.coef_))\n",
    "weights_df.to_csv('submission.csv', index=False, header=False)"
   ]
  }
 ],
 "metadata": {
  "interpreter": {
   "hash": "a7bf333cef6c42b7677acd20465dba9b1b24400d560046f4de2df062e6949c1c"
  },
  "kernelspec": {
   "display_name": "Python 3.7.11 ('intro-ml')",
   "language": "python",
   "name": "python3"
  },
  "language_info": {
   "codemirror_mode": {
    "name": "ipython",
    "version": 3
   },
   "file_extension": ".py",
   "mimetype": "text/x-python",
   "name": "python",
   "nbconvert_exporter": "python",
   "pygments_lexer": "ipython3",
   "version": "3.7.11"
  },
  "orig_nbformat": 4
 },
 "nbformat": 4,
 "nbformat_minor": 2
}
