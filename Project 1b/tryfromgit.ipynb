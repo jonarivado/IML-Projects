{
 "cells": [
  {
   "cell_type": "code",
   "execution_count": 1,
   "metadata": {},
   "outputs": [],
   "source": [
    "import numpy as np\n",
    "import pandas as pd\n",
    "import matplotlib.pylab as ply\n",
    "train_data = pd.read_csv('train.csv').drop('Id', axis=1)"
   ]
  },
  {
   "cell_type": "code",
   "execution_count": 2,
   "metadata": {},
   "outputs": [],
   "source": [
    "X_train = train_data.iloc[:, 1:].to_numpy()\n",
    "y_train = train_data['y'].to_numpy()"
   ]
  },
  {
   "cell_type": "code",
   "execution_count": 3,
   "metadata": {},
   "outputs": [],
   "source": [
    "def funky_transform(X):\n",
    "    linear = X\n",
    "    quadratic = X ** 2\n",
    "    exponential = np.exp(X)\n",
    "    cosine = np.cos(X)\n",
    "    constant = np.ones(X.shape[0])\n",
    "    constant = constant[:, np.newaxis]\n",
    "    return np.hstack((linear, quadratic, exponential, cosine, constant))"
   ]
  },
  {
   "cell_type": "code",
   "execution_count": 5,
   "metadata": {},
   "outputs": [
    {
     "name": "stdout",
     "output_type": "stream",
     "text": [
      "Cross-validation score is 1.958, standard deviation is 0.137\n"
     ]
    }
   ],
   "source": [
    "from sklearn.pipeline import make_pipeline\n",
    "from sklearn.model_selection import (GridSearchCV,\n",
    "    cross_val_score, KFold)\n",
    "from sklearn.preprocessing import StandardScaler\n",
    "from sklearn.preprocessing import FunctionTransformer\n",
    "from sklearn.linear_model import Ridge\n",
    "\n",
    "pipeline = make_pipeline(FunctionTransformer(\n",
    "                             funky_transform,\n",
    "                             validate=True),\n",
    "                         Ridge())\n",
    "parameter_space = {\n",
    "    'ridge__alpha': np.logspace(-5, 5, 100)\n",
    "}\n",
    "inner_cv = KFold(n_splits=10, shuffle=True)\n",
    "outer_cv = KFold(n_splits=10, shuffle=True)\n",
    "classifier = GridSearchCV(pipeline, parameter_space,\n",
    "                               n_jobs=1, scoring='neg_mean_squared_error',\n",
    "                               \n",
    "                               refit=True,\n",
    "                               cv=inner_cv)\n",
    "scores = cross_val_score(classifier, X_train, y_train.ravel(),\n",
    "                            cv=outer_cv,\n",
    "                            scoring='neg_mean_squared_error',\n",
    "                            n_jobs=1)\n",
    "print(\"Cross-validation score is {score:.3f},\"\n",
    "      \" standard deviation is {err:.3f}\"\n",
    "      .format(score = np.sqrt(-scores).mean(), err = np.sqrt(-scores).std()))\n",
    "\n",
    "classifier = classifier.fit(X_train, y_train.ravel())\n",
    "coefficients = classifier.best_estimator_['ridge'].coef_"
   ]
  },
  {
   "cell_type": "code",
   "execution_count": 6,
   "metadata": {},
   "outputs": [
    {
     "data": {
      "text/plain": [
       "array([-0.05430861, -0.71118115, -0.87831711, -0.05193159, -0.04808066,\n",
       "       -0.27996084,  0.21553957,  0.17745964, -0.04309758,  0.12574522,\n",
       "       -0.20400854, -0.60738281, -0.79833481, -0.08308559,  0.00307285,\n",
       "        0.13912942, -0.10718517, -0.08812766,  0.02046101, -0.06091483,\n",
       "        0.        ])"
      ]
     },
     "metadata": {},
     "output_type": "display_data"
    }
   ],
   "source": [
    "display(coefficients)"
   ]
  }
 ],
 "metadata": {
  "interpreter": {
   "hash": "a7bf333cef6c42b7677acd20465dba9b1b24400d560046f4de2df062e6949c1c"
  },
  "kernelspec": {
   "display_name": "Python 3.7.11 ('intro-ml')",
   "language": "python",
   "name": "python3"
  },
  "language_info": {
   "codemirror_mode": {
    "name": "ipython",
    "version": 3
   },
   "file_extension": ".py",
   "mimetype": "text/x-python",
   "name": "python",
   "nbconvert_exporter": "python",
   "pygments_lexer": "ipython3",
   "version": "3.7.11"
  },
  "orig_nbformat": 4
 },
 "nbformat": 4,
 "nbformat_minor": 2
}
